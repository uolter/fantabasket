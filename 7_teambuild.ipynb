{
 "metadata": {
  "name": "",
  "signature": "sha256:83f267548ebc7eba936bad301c5ffd4f53a46fccf04e20dd21ff8e40fc425d1c"
 },
 "nbformat": 3,
 "nbformat_minor": 0,
 "worksheets": [
  {
   "cells": [
    {
     "cell_type": "markdown",
     "metadata": {},
     "source": [
      "# Round 7"
     ]
    },
    {
     "cell_type": "code",
     "collapsed": false,
     "input": [
      "import pandas as pd\n",
      "import numpy as np\n",
      "from prettytable import PrettyTable\n",
      "import matplotlib as plt\n",
      "from utils import to_int, best_by_role\n",
      "from IPython.display import HTML, display\n",
      "\n",
      "# !ls\n",
      "\n",
      "CSV_FILE_NAME = 'data/profiles_7.csv'\n",
      "CSV_FILE_OUT = 'data/myteam_7.csv'\n",
      "\n",
      "BUDGET = 100000\n",
      "\n",
      "# how to split the budget.\n",
      "bdg_part = (0.83, 0.25, 0.10) "
     ],
     "language": "python",
     "metadata": {},
     "outputs": [],
     "prompt_number": 45
    },
    {
     "cell_type": "code",
     "collapsed": false,
     "input": [
      "df = pd.read_csv(CSV_FILE_NAME, sep=',')\n",
      "df.rename(columns={'+/-': 'Val'}, inplace=True)\n",
      "df.Val.fillna(0, inplace=True)\n",
      "# drop the Url -> is unuseful !!\n",
      "df.drop(['Url', 'Media'] , axis=1, inplace=True)"
     ],
     "language": "python",
     "metadata": {},
     "outputs": [],
     "prompt_number": 46
    },
    {
     "cell_type": "heading",
     "level": 1,
     "metadata": {},
     "source": [
      "Exploratory Data Analysis"
     ]
    },
    {
     "cell_type": "code",
     "collapsed": false,
     "input": [
      "df.head()"
     ],
     "language": "python",
     "metadata": {},
     "outputs": [
      {
       "html": [
        "<div style=\"max-height:1000px;max-width:1500px;overflow:auto;\">\n",
        "<table border=\"1\" class=\"dataframe\">\n",
        "  <thead>\n",
        "    <tr style=\"text-align: right;\">\n",
        "      <th></th>\n",
        "      <th>Name</th>\n",
        "      <th>Team</th>\n",
        "      <th>Role</th>\n",
        "      <th>Age</th>\n",
        "      <th>Country</th>\n",
        "      <th>PR</th>\n",
        "      <th>PG</th>\n",
        "      <th>SF</th>\n",
        "      <th>PT</th>\n",
        "      <th>MIN</th>\n",
        "      <th>...</th>\n",
        "      <th>Tot</th>\n",
        "      <th>Dat</th>\n",
        "      <th>Sub</th>\n",
        "      <th>Per</th>\n",
        "      <th>Rec</th>\n",
        "      <th>Ass</th>\n",
        "      <th>Lega</th>\n",
        "      <th>OER</th>\n",
        "      <th>Adp</th>\n",
        "      <th>Val</th>\n",
        "    </tr>\n",
        "  </thead>\n",
        "  <tbody>\n",
        "    <tr>\n",
        "      <th>0</th>\n",
        "      <td>  Basile Gianluca</td>\n",
        "      <td>     Upea Capo d'Orlando</td>\n",
        "      <td>     Guardia</td>\n",
        "      <td> 40</td>\n",
        "      <td> \u00a0ITA</td>\n",
        "      <td>   \u00a0</td>\n",
        "      <td>   \u00a0</td>\n",
        "      <td>   \u00a0</td>\n",
        "      <td> 1.8\u00a0</td>\n",
        "      <td> 23.0\u00a0</td>\n",
        "      <td>...</td>\n",
        "      <td> 1.5\u00a0</td>\n",
        "      <td> 0.0\u00a0</td>\n",
        "      <td> 0.2\u00a0</td>\n",
        "      <td> 1.0\u00a0</td>\n",
        "      <td> 1.2\u00a0</td>\n",
        "      <td> 3.2\u00a0</td>\n",
        "      <td>  0.7\u00a0</td>\n",
        "      <td> 0.341\u00a0</td>\n",
        "      <td> 3.3\u00a0</td>\n",
        "      <td>  4.8\u00a0</td>\n",
        "    </tr>\n",
        "    <tr>\n",
        "      <th>1</th>\n",
        "      <td> Burgess Bradford</td>\n",
        "      <td>     Upea Capo d'Orlando</td>\n",
        "      <td>         Ala</td>\n",
        "      <td> 24</td>\n",
        "      <td> \u00a0USA</td>\n",
        "      <td>   \u00a0</td>\n",
        "      <td>   \u00a0</td>\n",
        "      <td>   \u00a0</td>\n",
        "      <td> 8.7\u00a0</td>\n",
        "      <td> 29.2\u00a0</td>\n",
        "      <td>...</td>\n",
        "      <td> 3.5\u00a0</td>\n",
        "      <td> 0.0\u00a0</td>\n",
        "      <td> 0.5\u00a0</td>\n",
        "      <td> 1.5\u00a0</td>\n",
        "      <td> 0.7\u00a0</td>\n",
        "      <td> 1.5\u00a0</td>\n",
        "      <td>  8.5\u00a0</td>\n",
        "      <td> 0.891\u00a0</td>\n",
        "      <td> 0.7\u00a0</td>\n",
        "      <td> -4.0\u00a0</td>\n",
        "    </tr>\n",
        "    <tr>\n",
        "      <th>2</th>\n",
        "      <td>  Bozzetti Andrea</td>\n",
        "      <td>          Vanoli Cremona</td>\n",
        "      <td> Guardia/Ala</td>\n",
        "      <td> 18</td>\n",
        "      <td> \u00a0ITA</td>\n",
        "      <td> NaN</td>\n",
        "      <td> NaN</td>\n",
        "      <td> NaN</td>\n",
        "      <td>  NaN</td>\n",
        "      <td>   NaN</td>\n",
        "      <td>...</td>\n",
        "      <td>  NaN</td>\n",
        "      <td>  NaN</td>\n",
        "      <td>  NaN</td>\n",
        "      <td>  NaN</td>\n",
        "      <td>  NaN</td>\n",
        "      <td>  NaN</td>\n",
        "      <td>   NaN</td>\n",
        "      <td>    NaN</td>\n",
        "      <td>  NaN</td>\n",
        "      <td>     0</td>\n",
        "    </tr>\n",
        "    <tr>\n",
        "      <th>3</th>\n",
        "      <td>        Buva Ivan</td>\n",
        "      <td> Acqua Vitasnella Cant\u00c3\u00b9</td>\n",
        "      <td>         Ala</td>\n",
        "      <td> 23</td>\n",
        "      <td> \u00a0CRO</td>\n",
        "      <td>   \u00a0</td>\n",
        "      <td>   \u00a0</td>\n",
        "      <td>   \u00a0</td>\n",
        "      <td> 6.2\u00a0</td>\n",
        "      <td> 18.2\u00a0</td>\n",
        "      <td>...</td>\n",
        "      <td>   5\u00a0</td>\n",
        "      <td> 0.2\u00a0</td>\n",
        "      <td> 0.3\u00a0</td>\n",
        "      <td> 0.3\u00a0</td>\n",
        "      <td> 0.3\u00a0</td>\n",
        "      <td> 1.0\u00a0</td>\n",
        "      <td> 10.3\u00a0</td>\n",
        "      <td> 0.946\u00a0</td>\n",
        "      <td> 1.0\u00a0</td>\n",
        "      <td> -2.2\u00a0</td>\n",
        "    </tr>\n",
        "    <tr>\n",
        "      <th>4</th>\n",
        "      <td>     Campani Luca</td>\n",
        "      <td>          Vanoli Cremona</td>\n",
        "      <td>  Ala/Centro</td>\n",
        "      <td> 25</td>\n",
        "      <td> \u00a0ITA</td>\n",
        "      <td>   \u00a0</td>\n",
        "      <td>   \u00a0</td>\n",
        "      <td>   \u00a0</td>\n",
        "      <td> 9.5\u00a0</td>\n",
        "      <td> 25.2\u00a0</td>\n",
        "      <td>...</td>\n",
        "      <td> 3.9\u00a0</td>\n",
        "      <td> 0.5\u00a0</td>\n",
        "      <td> 0.3\u00a0</td>\n",
        "      <td> 0.8\u00a0</td>\n",
        "      <td> 0.5\u00a0</td>\n",
        "      <td> 0.3\u00a0</td>\n",
        "      <td> 11.8\u00a0</td>\n",
        "      <td> 1.176\u00a0</td>\n",
        "      <td> 0.0\u00a0</td>\n",
        "      <td>  7.7\u00a0</td>\n",
        "    </tr>\n",
        "  </tbody>\n",
        "</table>\n",
        "<p>5 rows \u00d7 34 columns</p>\n",
        "</div>"
       ],
       "metadata": {},
       "output_type": "pyout",
       "prompt_number": 47,
       "text": [
        "               Name                     Team         Role  Age Country   PR  \\\n",
        "0   Basile Gianluca      Upea Capo d'Orlando      Guardia   40    \u00a0ITA    \u00a0   \n",
        "1  Burgess Bradford      Upea Capo d'Orlando          Ala   24    \u00a0USA    \u00a0   \n",
        "2   Bozzetti Andrea           Vanoli Cremona  Guardia/Ala   18    \u00a0ITA  NaN   \n",
        "3         Buva Ivan  Acqua Vitasnella Cant\u00c3\u00b9          Ala   23    \u00a0CRO    \u00a0   \n",
        "4      Campani Luca           Vanoli Cremona   Ala/Centro   25    \u00a0ITA    \u00a0   \n",
        "\n",
        "    PG   SF    PT    MIN  ...     Tot   Dat   Sub   Per   Rec   Ass   Lega  \\\n",
        "0    \u00a0    \u00a0  1.8\u00a0  23.0\u00a0  ...    1.5\u00a0  0.0\u00a0  0.2\u00a0  1.0\u00a0  1.2\u00a0  3.2\u00a0   0.7\u00a0   \n",
        "1    \u00a0    \u00a0  8.7\u00a0  29.2\u00a0  ...    3.5\u00a0  0.0\u00a0  0.5\u00a0  1.5\u00a0  0.7\u00a0  1.5\u00a0   8.5\u00a0   \n",
        "2  NaN  NaN   NaN    NaN  ...     NaN   NaN   NaN   NaN   NaN   NaN    NaN   \n",
        "3    \u00a0    \u00a0  6.2\u00a0  18.2\u00a0  ...      5\u00a0  0.2\u00a0  0.3\u00a0  0.3\u00a0  0.3\u00a0  1.0\u00a0  10.3\u00a0   \n",
        "4    \u00a0    \u00a0  9.5\u00a0  25.2\u00a0  ...    3.9\u00a0  0.5\u00a0  0.3\u00a0  0.8\u00a0  0.5\u00a0  0.3\u00a0  11.8\u00a0   \n",
        "\n",
        "      OER   Adp    Val  \n",
        "0  0.341\u00a0  3.3\u00a0   4.8\u00a0  \n",
        "1  0.891\u00a0  0.7\u00a0  -4.0\u00a0  \n",
        "2     NaN   NaN      0  \n",
        "3  0.946\u00a0  1.0\u00a0  -2.2\u00a0  \n",
        "4  1.176\u00a0  0.0\u00a0   7.7\u00a0  \n",
        "\n",
        "[5 rows x 34 columns]"
       ]
      }
     ],
     "prompt_number": 47
    },
    {
     "cell_type": "code",
     "collapsed": false,
     "input": [
      "df.describe()"
     ],
     "language": "python",
     "metadata": {},
     "outputs": [
      {
       "html": [
        "<div style=\"max-height:1000px;max-width:1500px;overflow:auto;\">\n",
        "<table border=\"1\" class=\"dataframe\">\n",
        "  <thead>\n",
        "    <tr style=\"text-align: right;\">\n",
        "      <th></th>\n",
        "      <th>Age</th>\n",
        "    </tr>\n",
        "  </thead>\n",
        "  <tbody>\n",
        "    <tr>\n",
        "      <th>count</th>\n",
        "      <td> 224.000000</td>\n",
        "    </tr>\n",
        "    <tr>\n",
        "      <th>mean</th>\n",
        "      <td>  24.705357</td>\n",
        "    </tr>\n",
        "    <tr>\n",
        "      <th>std</th>\n",
        "      <td>   5.770092</td>\n",
        "    </tr>\n",
        "    <tr>\n",
        "      <th>min</th>\n",
        "      <td>   0.000000</td>\n",
        "    </tr>\n",
        "    <tr>\n",
        "      <th>25%</th>\n",
        "      <td>  20.750000</td>\n",
        "    </tr>\n",
        "    <tr>\n",
        "      <th>50%</th>\n",
        "      <td>  24.500000</td>\n",
        "    </tr>\n",
        "    <tr>\n",
        "      <th>75%</th>\n",
        "      <td>  28.000000</td>\n",
        "    </tr>\n",
        "    <tr>\n",
        "      <th>max</th>\n",
        "      <td>  48.000000</td>\n",
        "    </tr>\n",
        "  </tbody>\n",
        "</table>\n",
        "</div>"
       ],
       "metadata": {},
       "output_type": "pyout",
       "prompt_number": 48,
       "text": [
        "              Age\n",
        "count  224.000000\n",
        "mean    24.705357\n",
        "std      5.770092\n",
        "min      0.000000\n",
        "25%     20.750000\n",
        "50%     24.500000\n",
        "75%     28.000000\n",
        "max     48.000000"
       ]
      }
     ],
     "prompt_number": 48
    },
    {
     "cell_type": "code",
     "collapsed": false,
     "input": [
      "pd.DataFrame(list(df.Team.unique()), columns=['Team'])"
     ],
     "language": "python",
     "metadata": {},
     "outputs": [
      {
       "html": [
        "<div style=\"max-height:1000px;max-width:1500px;overflow:auto;\">\n",
        "<table border=\"1\" class=\"dataframe\">\n",
        "  <thead>\n",
        "    <tr style=\"text-align: right;\">\n",
        "      <th></th>\n",
        "      <th>Team</th>\n",
        "    </tr>\n",
        "  </thead>\n",
        "  <tbody>\n",
        "    <tr>\n",
        "      <th>0 </th>\n",
        "      <td>        Upea Capo d'Orlando</td>\n",
        "    </tr>\n",
        "    <tr>\n",
        "      <th>1 </th>\n",
        "      <td>             Vanoli Cremona</td>\n",
        "    </tr>\n",
        "    <tr>\n",
        "      <th>2 </th>\n",
        "      <td>    Acqua Vitasnella Cant\u00c3\u00b9</td>\n",
        "    </tr>\n",
        "    <tr>\n",
        "      <th>3 </th>\n",
        "      <td>              Enel Brindisi</td>\n",
        "    </tr>\n",
        "    <tr>\n",
        "      <th>4 </th>\n",
        "      <td>        Openjobmetis Varese</td>\n",
        "    </tr>\n",
        "    <tr>\n",
        "      <th>5 </th>\n",
        "      <td>       Pasta Reggia Caserta</td>\n",
        "    </tr>\n",
        "    <tr>\n",
        "      <th>6 </th>\n",
        "      <td>    Dolomiti Energia Trento</td>\n",
        "    </tr>\n",
        "    <tr>\n",
        "      <th>7 </th>\n",
        "      <td>           Sidigas Avellino</td>\n",
        "    </tr>\n",
        "    <tr>\n",
        "      <th>8 </th>\n",
        "      <td>  Grissin Bon Reggio Emilia</td>\n",
        "    </tr>\n",
        "    <tr>\n",
        "      <th>9 </th>\n",
        "      <td>  Banco di Sardegna Sassari</td>\n",
        "    </tr>\n",
        "    <tr>\n",
        "      <th>10</th>\n",
        "      <td>                  Acea Roma</td>\n",
        "    </tr>\n",
        "    <tr>\n",
        "      <th>11</th>\n",
        "      <td>        Umana Reyer Venezia</td>\n",
        "    </tr>\n",
        "    <tr>\n",
        "      <th>12</th>\n",
        "      <td>          Granarolo Bologna</td>\n",
        "    </tr>\n",
        "    <tr>\n",
        "      <th>13</th>\n",
        "      <td>  EA7 Emporio Armani Milano</td>\n",
        "    </tr>\n",
        "    <tr>\n",
        "      <th>14</th>\n",
        "      <td>       Consultinvest Pesaro</td>\n",
        "    </tr>\n",
        "    <tr>\n",
        "      <th>15</th>\n",
        "      <td> Giorgio Tesi Group Pistoia</td>\n",
        "    </tr>\n",
        "    <tr>\n",
        "      <th>16</th>\n",
        "      <td>                        NaN</td>\n",
        "    </tr>\n",
        "  </tbody>\n",
        "</table>\n",
        "</div>"
       ],
       "metadata": {},
       "output_type": "pyout",
       "prompt_number": 49,
       "text": [
        "                          Team\n",
        "0          Upea Capo d'Orlando\n",
        "1               Vanoli Cremona\n",
        "2      Acqua Vitasnella Cant\u00c3\u00b9\n",
        "3                Enel Brindisi\n",
        "4          Openjobmetis Varese\n",
        "5         Pasta Reggia Caserta\n",
        "6      Dolomiti Energia Trento\n",
        "7             Sidigas Avellino\n",
        "8    Grissin Bon Reggio Emilia\n",
        "9    Banco di Sardegna Sassari\n",
        "10                   Acea Roma\n",
        "11         Umana Reyer Venezia\n",
        "12           Granarolo Bologna\n",
        "13   EA7 Emporio Armani Milano\n",
        "14        Consultinvest Pesaro\n",
        "15  Giorgio Tesi Group Pistoia\n",
        "16                         NaN"
       ]
      }
     ],
     "prompt_number": 49
    },
    {
     "cell_type": "code",
     "collapsed": false,
     "input": [
      "pd.DataFrame(list(df.Role.unique()), columns=['Role'])"
     ],
     "language": "python",
     "metadata": {},
     "outputs": [
      {
       "html": [
        "<div style=\"max-height:1000px;max-width:1500px;overflow:auto;\">\n",
        "<table border=\"1\" class=\"dataframe\">\n",
        "  <thead>\n",
        "    <tr style=\"text-align: right;\">\n",
        "      <th></th>\n",
        "      <th>Role</th>\n",
        "    </tr>\n",
        "  </thead>\n",
        "  <tbody>\n",
        "    <tr>\n",
        "      <th>0</th>\n",
        "      <td>      Guardia</td>\n",
        "    </tr>\n",
        "    <tr>\n",
        "      <th>1</th>\n",
        "      <td>          Ala</td>\n",
        "    </tr>\n",
        "    <tr>\n",
        "      <th>2</th>\n",
        "      <td>  Guardia/Ala</td>\n",
        "    </tr>\n",
        "    <tr>\n",
        "      <th>3</th>\n",
        "      <td>   Ala/Centro</td>\n",
        "    </tr>\n",
        "    <tr>\n",
        "      <th>4</th>\n",
        "      <td> Play/Guardia</td>\n",
        "    </tr>\n",
        "    <tr>\n",
        "      <th>5</th>\n",
        "      <td>       Centro</td>\n",
        "    </tr>\n",
        "    <tr>\n",
        "      <th>6</th>\n",
        "      <td>    Playmaker</td>\n",
        "    </tr>\n",
        "    <tr>\n",
        "      <th>7</th>\n",
        "      <td>          NaN</td>\n",
        "    </tr>\n",
        "  </tbody>\n",
        "</table>\n",
        "</div>"
       ],
       "metadata": {},
       "output_type": "pyout",
       "prompt_number": 50,
       "text": [
        "           Role\n",
        "0       Guardia\n",
        "1           Ala\n",
        "2   Guardia/Ala\n",
        "3    Ala/Centro\n",
        "4  Play/Guardia\n",
        "5        Centro\n",
        "6     Playmaker\n",
        "7           NaN"
       ]
      }
     ],
     "prompt_number": 50
    },
    {
     "cell_type": "markdown",
     "metadata": {},
     "source": [
      "- there are 224 playes\n",
      "- 16 teams\n",
      "- the avarage age is 24\n",
      "- 7 roles\n",
      "- players are form 26 country"
     ]
    },
    {
     "cell_type": "code",
     "collapsed": false,
     "input": [
      "# Want to be sure the evaluation is an integer.\n",
      "df.Lega = df.Lega.apply(to_int)"
     ],
     "language": "python",
     "metadata": {},
     "outputs": [
      {
       "output_type": "stream",
       "stream": "stdout",
       "text": [
        "could not convert string to float: \n",
        "\n"
       ]
      }
     ],
     "prompt_number": 51
    },
    {
     "cell_type": "code",
     "collapsed": false,
     "input": [
      "# compute price\n",
      "f = lambda x: x * 1000 if x >0 else 0\n",
      "\n",
      "df['Price'] = df.Lega.apply(f)\n",
      "# filter not used columns:\n",
      "df_small = df[[\"Name\", \"Team\", \"Role\", \"Age\", \"Lega\", \"Price\"]]"
     ],
     "language": "python",
     "metadata": {},
     "outputs": [],
     "prompt_number": 52
    },
    {
     "cell_type": "heading",
     "level": 2,
     "metadata": {},
     "source": [
      "Score Distribution"
     ]
    },
    {
     "cell_type": "code",
     "collapsed": false,
     "input": [
      "fig = plt.pyplot.figure()\n",
      "ax = fig.add_subplot(111)\n",
      "ax.hist(df['Lega'], bins = 20, range = (df_small['Lega'].min(),df_small['Lega'].max()))\n",
      "plt.pyplot.title('Score distribution')\n",
      "plt.pyplot.xlabel('Lega')\n",
      "plt.pyplot.ylabel('Count of Players')\n",
      "plt.pyplot.show()"
     ],
     "language": "python",
     "metadata": {},
     "outputs": [
      {
       "metadata": {},
       "output_type": "display_data",
       "png": "[encoded data removed]",
       "text": [
        "<matplotlib.figure.Figure at 0x113578450>"
       ]
      }
     ],
     "prompt_number": 53
    },
    {
     "cell_type": "code",
     "collapsed": false,
     "input": [
      "df.Lega.describe()"
     ],
     "language": "python",
     "metadata": {},
     "outputs": [
      {
       "metadata": {},
       "output_type": "pyout",
       "prompt_number": 54,
       "text": [
        "count    169.000000\n",
        "mean       7.817751\n",
        "std        6.043083\n",
        "min       -2.500000\n",
        "25%        3.000000\n",
        "50%        7.800000\n",
        "75%       11.800000\n",
        "max       24.600000\n",
        "Name: Lega, dtype: float64"
       ]
      }
     ],
     "prompt_number": 54
    },
    {
     "cell_type": "markdown",
     "metadata": {},
     "source": [
      "- **median** score of a player **is 7.8**"
     ]
    },
    {
     "cell_type": "markdown",
     "metadata": {},
     "source": [
      "## Suggested team"
     ]
    },
    {
     "cell_type": "code",
     "collapsed": false,
     "input": [
      "suggested_team = pd.DataFrame()\n",
      "\n",
      "for i, t in enumerate(bdg_part):\n",
      "    # playmakers\n",
      "    player = best_by_role(df_small, ['Playmaker', 'Play/Guardia'], 1000)\n",
      "    suggested_team = suggested_team.append( player[player.Price <= BUDGET * t/5][:1], ignore_index=True)\n",
      "    # guardia / ala\n",
      "    player = best_by_role(df_small, ['Guardia', 'Guardia/Ala', 'Ala/Centro'], 1000)\n",
      "    suggested_team = suggested_team.append(player[player.Price <= BUDGET * t/5][:1], ignore_index=True)\n",
      "    if i < 2:\n",
      "        suggested_team = suggested_team.append(player[player.Price <= BUDGET * t/5][1:2], ignore_index=True)\n",
      "    # centro\n",
      "    player = best_by_role(df_small, ['Centro', 'Ala/Centro'], 1000)\n",
      "    suggested_team = suggested_team.append(player[player.Price <= BUDGET * t/5][:1], ignore_index=True)\n",
      "    if i < 2:\n",
      "        suggested_team = suggested_team.append(player[player.Price <= BUDGET * t/5][1:2], ignore_index=True)\n",
      "    \n",
      "\n",
      "suggested_team.sort(['Price'], ascending=[False])"
     ],
     "language": "python",
     "metadata": {},
     "outputs": [
      {
       "html": [
        "<div style=\"max-height:1000px;max-width:1500px;overflow:auto;\">\n",
        "<table border=\"1\" class=\"dataframe\">\n",
        "  <thead>\n",
        "    <tr style=\"text-align: right;\">\n",
        "      <th></th>\n",
        "      <th>Name</th>\n",
        "      <th>Team</th>\n",
        "      <th>Role</th>\n",
        "      <th>Age</th>\n",
        "      <th>Lega</th>\n",
        "      <th>Price</th>\n",
        "    </tr>\n",
        "  </thead>\n",
        "  <tbody>\n",
        "    <tr>\n",
        "      <th>3 </th>\n",
        "      <td>      Johnson Linton</td>\n",
        "      <td> Giorgio Tesi Group Pistoia</td>\n",
        "      <td>      Centro</td>\n",
        "      <td> 34</td>\n",
        "      <td> 16.2</td>\n",
        "      <td> 16200</td>\n",
        "    </tr>\n",
        "    <tr>\n",
        "      <th>0 </th>\n",
        "      <td>      Robinson Dawan</td>\n",
        "      <td>        Openjobmetis Varese</td>\n",
        "      <td>   Playmaker</td>\n",
        "      <td> 33</td>\n",
        "      <td> 14.7</td>\n",
        "      <td> 14700</td>\n",
        "    </tr>\n",
        "    <tr>\n",
        "      <th>4 </th>\n",
        "      <td>         Lawal Shane</td>\n",
        "      <td>  Banco di Sardegna Sassari</td>\n",
        "      <td>      Centro</td>\n",
        "      <td> 28</td>\n",
        "      <td> 13.8</td>\n",
        "      <td> 13800</td>\n",
        "    </tr>\n",
        "    <tr>\n",
        "      <th>1 </th>\n",
        "      <td>  Lavrinovic Ksistof</td>\n",
        "      <td>  Grissin Bon Reggio Emilia</td>\n",
        "      <td>  Ala/Centro</td>\n",
        "      <td> 35</td>\n",
        "      <td> 13.3</td>\n",
        "      <td> 13300</td>\n",
        "    </tr>\n",
        "    <tr>\n",
        "      <th>2 </th>\n",
        "      <td>      Musso Bernardo</td>\n",
        "      <td>       Consultinvest Pesaro</td>\n",
        "      <td>     Guardia</td>\n",
        "      <td> 29</td>\n",
        "      <td> 13.2</td>\n",
        "      <td> 13200</td>\n",
        "    </tr>\n",
        "    <tr>\n",
        "      <th>5 </th>\n",
        "      <td>         Flynn Jonny</td>\n",
        "      <td>        Upea Capo d'Orlando</td>\n",
        "      <td>   Playmaker</td>\n",
        "      <td> 26</td>\n",
        "      <td>  5.0</td>\n",
        "      <td>  5000</td>\n",
        "    </tr>\n",
        "    <tr>\n",
        "      <th>8 </th>\n",
        "      <td>         Judge Wally</td>\n",
        "      <td>       Consultinvest Pesaro</td>\n",
        "      <td>      Centro</td>\n",
        "      <td> 24</td>\n",
        "      <td>  5.0</td>\n",
        "      <td>  5000</td>\n",
        "    </tr>\n",
        "    <tr>\n",
        "      <th>6 </th>\n",
        "      <td>     Dulkys Deividas</td>\n",
        "      <td>        Umana Reyer Venezia</td>\n",
        "      <td>     Guardia</td>\n",
        "      <td> 27</td>\n",
        "      <td>  4.3</td>\n",
        "      <td>  4300</td>\n",
        "    </tr>\n",
        "    <tr>\n",
        "      <th>7 </th>\n",
        "      <td>      Mordente Marco</td>\n",
        "      <td>       Pasta Reggia Caserta</td>\n",
        "      <td>     Guardia</td>\n",
        "      <td> 36</td>\n",
        "      <td>  4.2</td>\n",
        "      <td>  4200</td>\n",
        "    </tr>\n",
        "    <tr>\n",
        "      <th>9 </th>\n",
        "      <td> Baldi Rossi Filippo</td>\n",
        "      <td>    Dolomiti Energia Trento</td>\n",
        "      <td>      Centro</td>\n",
        "      <td> 23</td>\n",
        "      <td>  4.0</td>\n",
        "      <td>  4000</td>\n",
        "    </tr>\n",
        "    <tr>\n",
        "      <th>10</th>\n",
        "      <td>     Ruzzier Michele</td>\n",
        "      <td>        Umana Reyer Venezia</td>\n",
        "      <td>   Playmaker</td>\n",
        "      <td> 22</td>\n",
        "      <td>  1.8</td>\n",
        "      <td>  1800</td>\n",
        "    </tr>\n",
        "    <tr>\n",
        "      <th>12</th>\n",
        "      <td>     Lechthaler Luca</td>\n",
        "      <td>           Sidigas Avellino</td>\n",
        "      <td>      Centro</td>\n",
        "      <td> 29</td>\n",
        "      <td>  1.8</td>\n",
        "      <td>  1800</td>\n",
        "    </tr>\n",
        "    <tr>\n",
        "      <th>11</th>\n",
        "      <td>     Raspino Tommaso</td>\n",
        "      <td>       Consultinvest Pesaro</td>\n",
        "      <td> Guardia/Ala</td>\n",
        "      <td> 25</td>\n",
        "      <td>  1.7</td>\n",
        "      <td>  1700</td>\n",
        "    </tr>\n",
        "  </tbody>\n",
        "</table>\n",
        "</div>"
       ],
       "metadata": {},
       "output_type": "pyout",
       "prompt_number": 55,
       "text": [
        "                   Name                        Team         Role  Age  Lega  \\\n",
        "3        Johnson Linton  Giorgio Tesi Group Pistoia       Centro   34  16.2   \n",
        "0        Robinson Dawan         Openjobmetis Varese    Playmaker   33  14.7   \n",
        "4           Lawal Shane   Banco di Sardegna Sassari       Centro   28  13.8   \n",
        "1    Lavrinovic Ksistof   Grissin Bon Reggio Emilia   Ala/Centro   35  13.3   \n",
        "2        Musso Bernardo        Consultinvest Pesaro      Guardia   29  13.2   \n",
        "5           Flynn Jonny         Upea Capo d'Orlando    Playmaker   26   5.0   \n",
        "8           Judge Wally        Consultinvest Pesaro       Centro   24   5.0   \n",
        "6       Dulkys Deividas         Umana Reyer Venezia      Guardia   27   4.3   \n",
        "7        Mordente Marco        Pasta Reggia Caserta      Guardia   36   4.2   \n",
        "9   Baldi Rossi Filippo     Dolomiti Energia Trento       Centro   23   4.0   \n",
        "10      Ruzzier Michele         Umana Reyer Venezia    Playmaker   22   1.8   \n",
        "12      Lechthaler Luca            Sidigas Avellino       Centro   29   1.8   \n",
        "11      Raspino Tommaso        Consultinvest Pesaro  Guardia/Ala   25   1.7   \n",
        "\n",
        "    Price  \n",
        "3   16200  \n",
        "0   14700  \n",
        "4   13800  \n",
        "1   13300  \n",
        "2   13200  \n",
        "5    5000  \n",
        "8    5000  \n",
        "6    4300  \n",
        "7    4200  \n",
        "9    4000  \n",
        "10   1800  \n",
        "12   1800  \n",
        "11   1700  "
       ]
      }
     ],
     "prompt_number": 55
    },
    {
     "cell_type": "markdown",
     "metadata": {},
     "source": [
      "**Price**"
     ]
    },
    {
     "cell_type": "code",
     "collapsed": false,
     "input": [
      "sum(suggested_team.Price)"
     ],
     "language": "python",
     "metadata": {},
     "outputs": [
      {
       "metadata": {},
       "output_type": "pyout",
       "prompt_number": 56,
       "text": [
        "99000.0"
       ]
      }
     ],
     "prompt_number": 56
    },
    {
     "cell_type": "markdown",
     "metadata": {},
     "source": [
      "## My team"
     ]
    },
    {
     "cell_type": "code",
     "collapsed": false,
     "input": [
      "# Current team\n",
      "\n",
      "my_team = df_small[df_small.Name.isin (\n",
      "['Johnson-Odom Darius',\n",
      " 'Kaukenas Rimantas',\n",
      " 'Rautins Andy',\n",
      " 'Hunt Dario',\n",
      " 'Cervi Riccardo',\n",
      " 'Pecile Andrea',\n",
      " 'Mordente Marco',\n",
      " 'De Gennaro Matteo',\n",
      " 'Cuccarolo Gino',\n",
      " 'Michelori Andrea',\n",
      " 'D\\'Ercole Lorenzo',\n",
      " 'Okoye Stanley',\n",
      " 'Cusin Marco'\n",
      "])]\n",
      "\n",
      "my_team.sort(['Lega'], ascending=[False])"
     ],
     "language": "python",
     "metadata": {},
     "outputs": [
      {
       "html": [
        "<div style=\"max-height:1000px;max-width:1500px;overflow:auto;\">\n",
        "<table border=\"1\" class=\"dataframe\">\n",
        "  <thead>\n",
        "    <tr style=\"text-align: right;\">\n",
        "      <th></th>\n",
        "      <th>Name</th>\n",
        "      <th>Team</th>\n",
        "      <th>Role</th>\n",
        "      <th>Age</th>\n",
        "      <th>Lega</th>\n",
        "      <th>Price</th>\n",
        "    </tr>\n",
        "  </thead>\n",
        "  <tbody>\n",
        "    <tr>\n",
        "      <th>69 </th>\n",
        "      <td> Johnson-Odom Darius</td>\n",
        "      <td>   Acqua Vitasnella Cant\u00c3\u00b9</td>\n",
        "      <td>    Playmaker</td>\n",
        "      <td> 25</td>\n",
        "      <td> 14.0</td>\n",
        "      <td> 14000</td>\n",
        "    </tr>\n",
        "    <tr>\n",
        "      <th>207</th>\n",
        "      <td>   Kaukenas Rimantas</td>\n",
        "      <td> Grissin Bon Reggio Emilia</td>\n",
        "      <td>      Guardia</td>\n",
        "      <td> 38</td>\n",
        "      <td> 13.0</td>\n",
        "      <td> 13000</td>\n",
        "    </tr>\n",
        "    <tr>\n",
        "      <th>167</th>\n",
        "      <td>          Hunt Dario</td>\n",
        "      <td>       Upea Capo d'Orlando</td>\n",
        "      <td>       Centro</td>\n",
        "      <td> 25</td>\n",
        "      <td> 12.3</td>\n",
        "      <td> 12300</td>\n",
        "    </tr>\n",
        "    <tr>\n",
        "      <th>13 </th>\n",
        "      <td>      Cervi Riccardo</td>\n",
        "      <td> Grissin Bon Reggio Emilia</td>\n",
        "      <td>       Centro</td>\n",
        "      <td> 23</td>\n",
        "      <td> 11.7</td>\n",
        "      <td> 11700</td>\n",
        "    </tr>\n",
        "    <tr>\n",
        "      <th>187</th>\n",
        "      <td>        Rautins Andy</td>\n",
        "      <td>       Openjobmetis Varese</td>\n",
        "      <td>      Guardia</td>\n",
        "      <td> 28</td>\n",
        "      <td> 11.2</td>\n",
        "      <td> 11200</td>\n",
        "    </tr>\n",
        "    <tr>\n",
        "      <th>162</th>\n",
        "      <td>       Okoye Stanley</td>\n",
        "      <td>       Openjobmetis Varese</td>\n",
        "      <td>          Ala</td>\n",
        "      <td> 24</td>\n",
        "      <td>  8.6</td>\n",
        "      <td>  8600</td>\n",
        "    </tr>\n",
        "    <tr>\n",
        "      <th>128</th>\n",
        "      <td>      Mordente Marco</td>\n",
        "      <td>      Pasta Reggia Caserta</td>\n",
        "      <td>      Guardia</td>\n",
        "      <td> 36</td>\n",
        "      <td>  4.2</td>\n",
        "      <td>  4200</td>\n",
        "    </tr>\n",
        "    <tr>\n",
        "      <th>42 </th>\n",
        "      <td>       Pecile Andrea</td>\n",
        "      <td>       Upea Capo d'Orlando</td>\n",
        "      <td>    Playmaker</td>\n",
        "      <td> 35</td>\n",
        "      <td>  3.7</td>\n",
        "      <td>  3700</td>\n",
        "    </tr>\n",
        "    <tr>\n",
        "      <th>110</th>\n",
        "      <td>    Michelori Andrea</td>\n",
        "      <td>      Pasta Reggia Caserta</td>\n",
        "      <td>   Ala/Centro</td>\n",
        "      <td> 37</td>\n",
        "      <td>  3.3</td>\n",
        "      <td>  3300</td>\n",
        "    </tr>\n",
        "    <tr>\n",
        "      <th>104</th>\n",
        "      <td>      Cuccarolo Gino</td>\n",
        "      <td>         Granarolo Bologna</td>\n",
        "      <td>       Centro</td>\n",
        "      <td> 27</td>\n",
        "      <td>  3.0</td>\n",
        "      <td>  3000</td>\n",
        "    </tr>\n",
        "    <tr>\n",
        "      <th>190</th>\n",
        "      <td>   De Gennaro Matteo</td>\n",
        "      <td>             Enel Brindisi</td>\n",
        "      <td>      Guardia</td>\n",
        "      <td> 18</td>\n",
        "      <td>  3.0</td>\n",
        "      <td>  3000</td>\n",
        "    </tr>\n",
        "    <tr>\n",
        "      <th>14 </th>\n",
        "      <td>         Cusin Marco</td>\n",
        "      <td>            Vanoli Cremona</td>\n",
        "      <td>       Centro</td>\n",
        "      <td> 30</td>\n",
        "      <td>  2.5</td>\n",
        "      <td>  2500</td>\n",
        "    </tr>\n",
        "    <tr>\n",
        "      <th>173</th>\n",
        "      <td>    D'Ercole Lorenzo</td>\n",
        "      <td>                 Acea Roma</td>\n",
        "      <td> Play/Guardia</td>\n",
        "      <td> 27</td>\n",
        "      <td>  0.2</td>\n",
        "      <td>   200</td>\n",
        "    </tr>\n",
        "  </tbody>\n",
        "</table>\n",
        "</div>"
       ],
       "metadata": {},
       "output_type": "pyout",
       "prompt_number": 57,
       "text": [
        "                    Name                       Team          Role  Age  Lega  \\\n",
        "69   Johnson-Odom Darius    Acqua Vitasnella Cant\u00c3\u00b9     Playmaker   25  14.0   \n",
        "207    Kaukenas Rimantas  Grissin Bon Reggio Emilia       Guardia   38  13.0   \n",
        "167           Hunt Dario        Upea Capo d'Orlando        Centro   25  12.3   \n",
        "13        Cervi Riccardo  Grissin Bon Reggio Emilia        Centro   23  11.7   \n",
        "187         Rautins Andy        Openjobmetis Varese       Guardia   28  11.2   \n",
        "162        Okoye Stanley        Openjobmetis Varese           Ala   24   8.6   \n",
        "128       Mordente Marco       Pasta Reggia Caserta       Guardia   36   4.2   \n",
        "42         Pecile Andrea        Upea Capo d'Orlando     Playmaker   35   3.7   \n",
        "110     Michelori Andrea       Pasta Reggia Caserta    Ala/Centro   37   3.3   \n",
        "104       Cuccarolo Gino          Granarolo Bologna        Centro   27   3.0   \n",
        "190    De Gennaro Matteo              Enel Brindisi       Guardia   18   3.0   \n",
        "14           Cusin Marco             Vanoli Cremona        Centro   30   2.5   \n",
        "173     D'Ercole Lorenzo                  Acea Roma  Play/Guardia   27   0.2   \n",
        "\n",
        "     Price  \n",
        "69   14000  \n",
        "207  13000  \n",
        "167  12300  \n",
        "13   11700  \n",
        "187  11200  \n",
        "162   8600  \n",
        "128   4200  \n",
        "42    3700  \n",
        "110   3300  \n",
        "104   3000  \n",
        "190   3000  \n",
        "14    2500  \n",
        "173    200  "
       ]
      }
     ],
     "prompt_number": 57
    },
    {
     "cell_type": "code",
     "collapsed": false,
     "input": [
      "sum(my_team.Price)"
     ],
     "language": "python",
     "metadata": {},
     "outputs": [
      {
       "metadata": {},
       "output_type": "pyout",
       "prompt_number": 58,
       "text": [
        "90700.0"
       ]
      }
     ],
     "prompt_number": 58
    },
    {
     "cell_type": "markdown",
     "metadata": {},
     "source": [
      "## Remaining budget"
     ]
    },
    {
     "cell_type": "code",
     "collapsed": false,
     "input": [
      "budget = BUDGET - sum(my_team.Price)"
     ],
     "language": "python",
     "metadata": {},
     "outputs": [],
     "prompt_number": 59
    },
    {
     "cell_type": "code",
     "collapsed": false,
     "input": [
      "budget"
     ],
     "language": "python",
     "metadata": {},
     "outputs": [
      {
       "metadata": {},
       "output_type": "pyout",
       "prompt_number": 60,
       "text": [
        "9300.0"
       ]
      }
     ],
     "prompt_number": 60
    },
    {
     "cell_type": "heading",
     "level": 2,
     "metadata": {},
     "source": [
      "Market"
     ]
    },
    {
     "cell_type": "code",
     "collapsed": false,
     "input": [
      "\n",
      "for n in my_team.Name:\n",
      "    price = my_team[my_team.Name==n].Price\n",
      "    role = my_team[my_team.Name==n].Role\n",
      "    can_buy = suggested_team[suggested_team.Role==role.values[0]]\n",
      "    can_buy = can_buy[can_buy.Price <= price.values[0] + 250]\n",
      "    if len(can_buy):\n",
      "        display(HTML(\"Sell -> <b>%s</b> price <b>%d</b>\" % (n, price)))\n",
      "        print \"and Buy\"\n",
      "        display(can_buy.sort(['Lega'], ascending=[False]).head(3))"
     ],
     "language": "python",
     "metadata": {},
     "outputs": [
      {
       "html": [
        "Sell -> <b>Cervi Riccardo</b> price <b>11700</b>"
       ],
       "metadata": {},
       "output_type": "display_data",
       "text": [
        "<IPython.core.display.HTML at 0x1134ea6d0>"
       ]
      },
      {
       "output_type": "stream",
       "stream": "stdout",
       "text": [
        "and Buy\n"
       ]
      },
      {
       "html": [
        "<div style=\"max-height:1000px;max-width:1500px;overflow:auto;\">\n",
        "<table border=\"1\" class=\"dataframe\">\n",
        "  <thead>\n",
        "    <tr style=\"text-align: right;\">\n",
        "      <th></th>\n",
        "      <th>Name</th>\n",
        "      <th>Team</th>\n",
        "      <th>Role</th>\n",
        "      <th>Age</th>\n",
        "      <th>Lega</th>\n",
        "      <th>Price</th>\n",
        "    </tr>\n",
        "  </thead>\n",
        "  <tbody>\n",
        "    <tr>\n",
        "      <th>8 </th>\n",
        "      <td>         Judge Wally</td>\n",
        "      <td>    Consultinvest Pesaro</td>\n",
        "      <td> Centro</td>\n",
        "      <td> 24</td>\n",
        "      <td> 5.0</td>\n",
        "      <td> 5000</td>\n",
        "    </tr>\n",
        "    <tr>\n",
        "      <th>9 </th>\n",
        "      <td> Baldi Rossi Filippo</td>\n",
        "      <td> Dolomiti Energia Trento</td>\n",
        "      <td> Centro</td>\n",
        "      <td> 23</td>\n",
        "      <td> 4.0</td>\n",
        "      <td> 4000</td>\n",
        "    </tr>\n",
        "    <tr>\n",
        "      <th>12</th>\n",
        "      <td>     Lechthaler Luca</td>\n",
        "      <td>        Sidigas Avellino</td>\n",
        "      <td> Centro</td>\n",
        "      <td> 29</td>\n",
        "      <td> 1.8</td>\n",
        "      <td> 1800</td>\n",
        "    </tr>\n",
        "  </tbody>\n",
        "</table>\n",
        "</div>"
       ],
       "metadata": {},
       "output_type": "display_data",
       "text": [
        "                   Name                     Team    Role  Age  Lega  Price\n",
        "8           Judge Wally     Consultinvest Pesaro  Centro   24   5.0   5000\n",
        "9   Baldi Rossi Filippo  Dolomiti Energia Trento  Centro   23   4.0   4000\n",
        "12      Lechthaler Luca         Sidigas Avellino  Centro   29   1.8   1800"
       ]
      },
      {
       "html": [
        "Sell -> <b>Cusin Marco</b> price <b>2500</b>"
       ],
       "metadata": {},
       "output_type": "display_data",
       "text": [
        "<IPython.core.display.HTML at 0x1136de250>"
       ]
      },
      {
       "output_type": "stream",
       "stream": "stdout",
       "text": [
        "and Buy\n"
       ]
      },
      {
       "html": [
        "<div style=\"max-height:1000px;max-width:1500px;overflow:auto;\">\n",
        "<table border=\"1\" class=\"dataframe\">\n",
        "  <thead>\n",
        "    <tr style=\"text-align: right;\">\n",
        "      <th></th>\n",
        "      <th>Name</th>\n",
        "      <th>Team</th>\n",
        "      <th>Role</th>\n",
        "      <th>Age</th>\n",
        "      <th>Lega</th>\n",
        "      <th>Price</th>\n",
        "    </tr>\n",
        "  </thead>\n",
        "  <tbody>\n",
        "    <tr>\n",
        "      <th>12</th>\n",
        "      <td> Lechthaler Luca</td>\n",
        "      <td> Sidigas Avellino</td>\n",
        "      <td> Centro</td>\n",
        "      <td> 29</td>\n",
        "      <td> 1.8</td>\n",
        "      <td> 1800</td>\n",
        "    </tr>\n",
        "  </tbody>\n",
        "</table>\n",
        "</div>"
       ],
       "metadata": {},
       "output_type": "display_data",
       "text": [
        "               Name              Team    Role  Age  Lega  Price\n",
        "12  Lechthaler Luca  Sidigas Avellino  Centro   29   1.8   1800"
       ]
      },
      {
       "html": [
        "Sell -> <b>Pecile Andrea</b> price <b>3700</b>"
       ],
       "metadata": {},
       "output_type": "display_data",
       "text": [
        "<IPython.core.display.HTML at 0x1134eac90>"
       ]
      },
      {
       "output_type": "stream",
       "stream": "stdout",
       "text": [
        "and Buy\n"
       ]
      },
      {
       "html": [
        "<div style=\"max-height:1000px;max-width:1500px;overflow:auto;\">\n",
        "<table border=\"1\" class=\"dataframe\">\n",
        "  <thead>\n",
        "    <tr style=\"text-align: right;\">\n",
        "      <th></th>\n",
        "      <th>Name</th>\n",
        "      <th>Team</th>\n",
        "      <th>Role</th>\n",
        "      <th>Age</th>\n",
        "      <th>Lega</th>\n",
        "      <th>Price</th>\n",
        "    </tr>\n",
        "  </thead>\n",
        "  <tbody>\n",
        "    <tr>\n",
        "      <th>10</th>\n",
        "      <td> Ruzzier Michele</td>\n",
        "      <td> Umana Reyer Venezia</td>\n",
        "      <td> Playmaker</td>\n",
        "      <td> 22</td>\n",
        "      <td> 1.8</td>\n",
        "      <td> 1800</td>\n",
        "    </tr>\n",
        "  </tbody>\n",
        "</table>\n",
        "</div>"
       ],
       "metadata": {},
       "output_type": "display_data",
       "text": [
        "               Name                 Team       Role  Age  Lega  Price\n",
        "10  Ruzzier Michele  Umana Reyer Venezia  Playmaker   22   1.8   1800"
       ]
      },
      {
       "html": [
        "Sell -> <b>Johnson-Odom Darius</b> price <b>14000</b>"
       ],
       "metadata": {},
       "output_type": "display_data",
       "text": [
        "<IPython.core.display.HTML at 0x1134eac50>"
       ]
      },
      {
       "output_type": "stream",
       "stream": "stdout",
       "text": [
        "and Buy\n"
       ]
      },
      {
       "html": [
        "<div style=\"max-height:1000px;max-width:1500px;overflow:auto;\">\n",
        "<table border=\"1\" class=\"dataframe\">\n",
        "  <thead>\n",
        "    <tr style=\"text-align: right;\">\n",
        "      <th></th>\n",
        "      <th>Name</th>\n",
        "      <th>Team</th>\n",
        "      <th>Role</th>\n",
        "      <th>Age</th>\n",
        "      <th>Lega</th>\n",
        "      <th>Price</th>\n",
        "    </tr>\n",
        "  </thead>\n",
        "  <tbody>\n",
        "    <tr>\n",
        "      <th>5 </th>\n",
        "      <td>     Flynn Jonny</td>\n",
        "      <td> Upea Capo d'Orlando</td>\n",
        "      <td> Playmaker</td>\n",
        "      <td> 26</td>\n",
        "      <td> 5.0</td>\n",
        "      <td> 5000</td>\n",
        "    </tr>\n",
        "    <tr>\n",
        "      <th>10</th>\n",
        "      <td> Ruzzier Michele</td>\n",
        "      <td> Umana Reyer Venezia</td>\n",
        "      <td> Playmaker</td>\n",
        "      <td> 22</td>\n",
        "      <td> 1.8</td>\n",
        "      <td> 1800</td>\n",
        "    </tr>\n",
        "  </tbody>\n",
        "</table>\n",
        "</div>"
       ],
       "metadata": {},
       "output_type": "display_data",
       "text": [
        "               Name                 Team       Role  Age  Lega  Price\n",
        "5       Flynn Jonny  Upea Capo d'Orlando  Playmaker   26   5.0   5000\n",
        "10  Ruzzier Michele  Umana Reyer Venezia  Playmaker   22   1.8   1800"
       ]
      },
      {
       "html": [
        "Sell -> <b>Cuccarolo Gino</b> price <b>3000</b>"
       ],
       "metadata": {},
       "output_type": "display_data",
       "text": [
        "<IPython.core.display.HTML at 0x1134eab50>"
       ]
      },
      {
       "output_type": "stream",
       "stream": "stdout",
       "text": [
        "and Buy\n"
       ]
      },
      {
       "html": [
        "<div style=\"max-height:1000px;max-width:1500px;overflow:auto;\">\n",
        "<table border=\"1\" class=\"dataframe\">\n",
        "  <thead>\n",
        "    <tr style=\"text-align: right;\">\n",
        "      <th></th>\n",
        "      <th>Name</th>\n",
        "      <th>Team</th>\n",
        "      <th>Role</th>\n",
        "      <th>Age</th>\n",
        "      <th>Lega</th>\n",
        "      <th>Price</th>\n",
        "    </tr>\n",
        "  </thead>\n",
        "  <tbody>\n",
        "    <tr>\n",
        "      <th>12</th>\n",
        "      <td> Lechthaler Luca</td>\n",
        "      <td> Sidigas Avellino</td>\n",
        "      <td> Centro</td>\n",
        "      <td> 29</td>\n",
        "      <td> 1.8</td>\n",
        "      <td> 1800</td>\n",
        "    </tr>\n",
        "  </tbody>\n",
        "</table>\n",
        "</div>"
       ],
       "metadata": {},
       "output_type": "display_data",
       "text": [
        "               Name              Team    Role  Age  Lega  Price\n",
        "12  Lechthaler Luca  Sidigas Avellino  Centro   29   1.8   1800"
       ]
      },
      {
       "html": [
        "Sell -> <b>Mordente Marco</b> price <b>4200</b>"
       ],
       "metadata": {},
       "output_type": "display_data",
       "text": [
        "<IPython.core.display.HTML at 0x1134d3ad0>"
       ]
      },
      {
       "output_type": "stream",
       "stream": "stdout",
       "text": [
        "and Buy\n"
       ]
      },
      {
       "html": [
        "<div style=\"max-height:1000px;max-width:1500px;overflow:auto;\">\n",
        "<table border=\"1\" class=\"dataframe\">\n",
        "  <thead>\n",
        "    <tr style=\"text-align: right;\">\n",
        "      <th></th>\n",
        "      <th>Name</th>\n",
        "      <th>Team</th>\n",
        "      <th>Role</th>\n",
        "      <th>Age</th>\n",
        "      <th>Lega</th>\n",
        "      <th>Price</th>\n",
        "    </tr>\n",
        "  </thead>\n",
        "  <tbody>\n",
        "    <tr>\n",
        "      <th>6</th>\n",
        "      <td> Dulkys Deividas</td>\n",
        "      <td>  Umana Reyer Venezia</td>\n",
        "      <td> Guardia</td>\n",
        "      <td> 27</td>\n",
        "      <td> 4.3</td>\n",
        "      <td> 4300</td>\n",
        "    </tr>\n",
        "    <tr>\n",
        "      <th>7</th>\n",
        "      <td>  Mordente Marco</td>\n",
        "      <td> Pasta Reggia Caserta</td>\n",
        "      <td> Guardia</td>\n",
        "      <td> 36</td>\n",
        "      <td> 4.2</td>\n",
        "      <td> 4200</td>\n",
        "    </tr>\n",
        "  </tbody>\n",
        "</table>\n",
        "</div>"
       ],
       "metadata": {},
       "output_type": "display_data",
       "text": [
        "              Name                  Team     Role  Age  Lega  Price\n",
        "6  Dulkys Deividas   Umana Reyer Venezia  Guardia   27   4.3   4300\n",
        "7   Mordente Marco  Pasta Reggia Caserta  Guardia   36   4.2   4200"
       ]
      },
      {
       "html": [
        "Sell -> <b>Hunt Dario</b> price <b>12300</b>"
       ],
       "metadata": {},
       "output_type": "display_data",
       "text": [
        "<IPython.core.display.HTML at 0x1134d3250>"
       ]
      },
      {
       "output_type": "stream",
       "stream": "stdout",
       "text": [
        "and Buy\n"
       ]
      },
      {
       "html": [
        "<div style=\"max-height:1000px;max-width:1500px;overflow:auto;\">\n",
        "<table border=\"1\" class=\"dataframe\">\n",
        "  <thead>\n",
        "    <tr style=\"text-align: right;\">\n",
        "      <th></th>\n",
        "      <th>Name</th>\n",
        "      <th>Team</th>\n",
        "      <th>Role</th>\n",
        "      <th>Age</th>\n",
        "      <th>Lega</th>\n",
        "      <th>Price</th>\n",
        "    </tr>\n",
        "  </thead>\n",
        "  <tbody>\n",
        "    <tr>\n",
        "      <th>8 </th>\n",
        "      <td>         Judge Wally</td>\n",
        "      <td>    Consultinvest Pesaro</td>\n",
        "      <td> Centro</td>\n",
        "      <td> 24</td>\n",
        "      <td> 5.0</td>\n",
        "      <td> 5000</td>\n",
        "    </tr>\n",
        "    <tr>\n",
        "      <th>9 </th>\n",
        "      <td> Baldi Rossi Filippo</td>\n",
        "      <td> Dolomiti Energia Trento</td>\n",
        "      <td> Centro</td>\n",
        "      <td> 23</td>\n",
        "      <td> 4.0</td>\n",
        "      <td> 4000</td>\n",
        "    </tr>\n",
        "    <tr>\n",
        "      <th>12</th>\n",
        "      <td>     Lechthaler Luca</td>\n",
        "      <td>        Sidigas Avellino</td>\n",
        "      <td> Centro</td>\n",
        "      <td> 29</td>\n",
        "      <td> 1.8</td>\n",
        "      <td> 1800</td>\n",
        "    </tr>\n",
        "  </tbody>\n",
        "</table>\n",
        "</div>"
       ],
       "metadata": {},
       "output_type": "display_data",
       "text": [
        "                   Name                     Team    Role  Age  Lega  Price\n",
        "8           Judge Wally     Consultinvest Pesaro  Centro   24   5.0   5000\n",
        "9   Baldi Rossi Filippo  Dolomiti Energia Trento  Centro   23   4.0   4000\n",
        "12      Lechthaler Luca         Sidigas Avellino  Centro   29   1.8   1800"
       ]
      },
      {
       "html": [
        "Sell -> <b>Rautins Andy</b> price <b>11200</b>"
       ],
       "metadata": {},
       "output_type": "display_data",
       "text": [
        "<IPython.core.display.HTML at 0x11348c190>"
       ]
      },
      {
       "output_type": "stream",
       "stream": "stdout",
       "text": [
        "and Buy\n"
       ]
      },
      {
       "html": [
        "<div style=\"max-height:1000px;max-width:1500px;overflow:auto;\">\n",
        "<table border=\"1\" class=\"dataframe\">\n",
        "  <thead>\n",
        "    <tr style=\"text-align: right;\">\n",
        "      <th></th>\n",
        "      <th>Name</th>\n",
        "      <th>Team</th>\n",
        "      <th>Role</th>\n",
        "      <th>Age</th>\n",
        "      <th>Lega</th>\n",
        "      <th>Price</th>\n",
        "    </tr>\n",
        "  </thead>\n",
        "  <tbody>\n",
        "    <tr>\n",
        "      <th>6</th>\n",
        "      <td> Dulkys Deividas</td>\n",
        "      <td>  Umana Reyer Venezia</td>\n",
        "      <td> Guardia</td>\n",
        "      <td> 27</td>\n",
        "      <td> 4.3</td>\n",
        "      <td> 4300</td>\n",
        "    </tr>\n",
        "    <tr>\n",
        "      <th>7</th>\n",
        "      <td>  Mordente Marco</td>\n",
        "      <td> Pasta Reggia Caserta</td>\n",
        "      <td> Guardia</td>\n",
        "      <td> 36</td>\n",
        "      <td> 4.2</td>\n",
        "      <td> 4200</td>\n",
        "    </tr>\n",
        "  </tbody>\n",
        "</table>\n",
        "</div>"
       ],
       "metadata": {},
       "output_type": "display_data",
       "text": [
        "              Name                  Team     Role  Age  Lega  Price\n",
        "6  Dulkys Deividas   Umana Reyer Venezia  Guardia   27   4.3   4300\n",
        "7   Mordente Marco  Pasta Reggia Caserta  Guardia   36   4.2   4200"
       ]
      },
      {
       "html": [
        "Sell -> <b>Kaukenas Rimantas</b> price <b>13000</b>"
       ],
       "metadata": {},
       "output_type": "display_data",
       "text": [
        "<IPython.core.display.HTML at 0x1134ea350>"
       ]
      },
      {
       "output_type": "stream",
       "stream": "stdout",
       "text": [
        "and Buy\n"
       ]
      },
      {
       "html": [
        "<div style=\"max-height:1000px;max-width:1500px;overflow:auto;\">\n",
        "<table border=\"1\" class=\"dataframe\">\n",
        "  <thead>\n",
        "    <tr style=\"text-align: right;\">\n",
        "      <th></th>\n",
        "      <th>Name</th>\n",
        "      <th>Team</th>\n",
        "      <th>Role</th>\n",
        "      <th>Age</th>\n",
        "      <th>Lega</th>\n",
        "      <th>Price</th>\n",
        "    </tr>\n",
        "  </thead>\n",
        "  <tbody>\n",
        "    <tr>\n",
        "      <th>2</th>\n",
        "      <td>  Musso Bernardo</td>\n",
        "      <td> Consultinvest Pesaro</td>\n",
        "      <td> Guardia</td>\n",
        "      <td> 29</td>\n",
        "      <td> 13.2</td>\n",
        "      <td> 13200</td>\n",
        "    </tr>\n",
        "    <tr>\n",
        "      <th>6</th>\n",
        "      <td> Dulkys Deividas</td>\n",
        "      <td>  Umana Reyer Venezia</td>\n",
        "      <td> Guardia</td>\n",
        "      <td> 27</td>\n",
        "      <td>  4.3</td>\n",
        "      <td>  4300</td>\n",
        "    </tr>\n",
        "    <tr>\n",
        "      <th>7</th>\n",
        "      <td>  Mordente Marco</td>\n",
        "      <td> Pasta Reggia Caserta</td>\n",
        "      <td> Guardia</td>\n",
        "      <td> 36</td>\n",
        "      <td>  4.2</td>\n",
        "      <td>  4200</td>\n",
        "    </tr>\n",
        "  </tbody>\n",
        "</table>\n",
        "</div>"
       ],
       "metadata": {},
       "output_type": "display_data",
       "text": [
        "              Name                  Team     Role  Age  Lega  Price\n",
        "2   Musso Bernardo  Consultinvest Pesaro  Guardia   29  13.2  13200\n",
        "6  Dulkys Deividas   Umana Reyer Venezia  Guardia   27   4.3   4300\n",
        "7   Mordente Marco  Pasta Reggia Caserta  Guardia   36   4.2   4200"
       ]
      }
     ],
     "prompt_number": 61
    },
    {
     "cell_type": "heading",
     "level": 2,
     "metadata": {},
     "source": [
      "Team on the field"
     ]
    },
    {
     "cell_type": "code",
     "collapsed": false,
     "input": [
      "team_on_fld = [\n",
      "'Johnson-Odom Darius',\n",
      "'De Gennaro Matteo',\n",
      "'Kaukenas Rimantas',\n",
      "'Michelori Andrea',\n",
      "'Cervi Riccardo',\n",
      "'Pecile Andrea',\n",
      "'Freeman Austin',\n",
      "'Dulkys Deividas',\n",
      "'Hunt Dario',\n",
      "'Cuccarolo Gino',\n",
      "'D\\'Ercole Lorenzo',\n",
      "'Okoye Stanley',\n",
      "'Cusin Marco'\n",
      "]\n",
      "\n",
      "df_team_on_fld = df_small[df_small.Name.isin(team_on_fld)]\n",
      "df_team_on_fld.sort(['Lega'], ascending=[False])\n",
      "\n",
      "# Save my team:\n",
      "with open(CSV_FILE_OUT, \"w\") as f:\n",
      "    df_team_on_fld.to_csv(f)\n"
     ],
     "language": "python",
     "metadata": {},
     "outputs": [],
     "prompt_number": 62
    },
    {
     "cell_type": "heading",
     "level": 3,
     "metadata": {},
     "source": [
      "Value"
     ]
    },
    {
     "cell_type": "code",
     "collapsed": false,
     "input": [
      "sum(df_team_on_fld.Price)"
     ],
     "language": "python",
     "metadata": {},
     "outputs": [
      {
       "metadata": {},
       "output_type": "pyout",
       "prompt_number": 63,
       "text": [
        "91000.0"
       ]
      }
     ],
     "prompt_number": 63
    },
    {
     "cell_type": "heading",
     "level": 3,
     "metadata": {},
     "source": [
      "Points scored"
     ]
    },
    {
     "cell_type": "code",
     "collapsed": false,
     "input": [
      "81.50"
     ],
     "language": "python",
     "metadata": {},
     "outputs": [
      {
       "metadata": {},
       "output_type": "pyout",
       "prompt_number": 64,
       "text": [
        "81.5"
       ]
      }
     ],
     "prompt_number": 64
    }
   ],
   "metadata": {}
  }
 ]
}